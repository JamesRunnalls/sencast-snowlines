{
 "cells": [
  {
   "cell_type": "markdown",
   "metadata": {},
   "source": [
    "# This Notebook is used to query <font color=red>OLCI</font> data from the <font color=#6b5b95>Wekeo HDA API</font> and apply <font color=blue>POLYMER</font> or <font color=blue>C2RCC</font> atmospheric correction. \n",
    "\n",
    "### Before running the script:\n",
    "1. Make a copy of the SX_params_template.txt and save it with a new name. \n",
    "2. Edit the new parameter file. \n",
    "3. In the following cell, replace line 11 (View > Toggle Line Numbers) with the correct parameter file you want to run.\n",
    "4. Run the following cell.\n",
    "\n",
    "### Parameter file\n",
    "\n",
    "The parameter file is located under `/home/nouchi/jupyter/sentinel_hindcast/ANCILLARY/parameters` and is used to setup the run of the Notebook. \n",
    "\n",
    "___Careful___, make a copy of a template file before editing anything !!!\n",
    "\n",
    "Note that all user defined options needs to be enclosed between apostrophe ('), and that parameters name be specified by the exact name from the table below followed by an equal sign (=) without any blank space. \n",
    "\n",
    "The parameters are organised as follow (a more detailed description with example is provided in the template files located under `/home/nouchi/jupyter/sentinel_hindcast/ANCILLARY/parameters`):\n",
    "\n",
    "| <p align=\"left\">Name | <p align=\"left\">Value | <p align=\"left\">description |\n",
    "| :--- | :--- | :--- |\n",
    "| <p align=\"left\">*project_name* | <p align=\"left\">'string' |<p align=\"left\">Name of the project (creates a project directory) |\n",
    "| <p align=\"left\">*start* | <p align=\"left\">'YYYY-MM-DDThh:mm:ss.cccZ' |<p align=\"left\">Starting sensing date of the data to process  |\n",
    "| <p align=\"left\">*end* | <p align=\"left\">'YYYY-MM-DDThh:mm:ss.cccZ' |<p align=\"left\">Ending sensing date of the data to process  |\n",
    "| <p align=\"left\">*sensor* | <p align=\"left\">'MSI' or 'OLCI' |<p align=\"left\">Available options are 'MSI' or 'OLCI'  |\n",
    "| <p align=\"left\">*wkt* | <p align=\"left\">'file.wkt' or 'string' |<p align=\"left\">wkt file name or a string with the content of a wkt file  |\n",
    "| <p align=\"left\">*rgb_bands* | <p align=\"left\">'red,green,blue' |<p align=\"left\">Comma separated list with RGB band names  |\n",
    "| <p align=\"left\">*false_color_bands* | <p align=\"left\">'red,green,blue' |<p align=\"left\">Comma separated list with false color band names  |\n",
    "| <p align=\"left\">*qmode* | <p align=\"left\">'1' or '2' |<p align=\"left\">Quicklooks handling mode  |\n",
    "| <p align=\"left\">*pcombo* | <p align=\"left\">'0', '1', '2', or '3' |<p align=\"left\">Select processor combination (used only if qmode = '2') |\n",
    "| <p align=\"left\">*validexpression* | <p align=\"left\">'!pixel_classif_flags.IDEPIX_CLOUD and ...' |<p align=\"left\">Valid pixel expression for the mask (used only for c2rcc)|\n",
    "| <p align=\"left\">*c2rcc_bands* | <p align=\"left\">'string' or 'string,string,..' |<p align=\"left\">C2RCC bands to plot (used only if qmode = '2', and pcombo = '1' or '3')|\n",
    "| <p align=\"left\">*polymer_bands* | <p align=\"left\">'string' or 'string,string,..' |<p align=\"left\">POLYMER bands to plot (used only if qmode = '2', and pcombo = '2' or '3')|\n",
    "| <p align=\"left\">*pmode* | <p align=\"left\">'1' or '2' |<p align=\"left\">Product handling (ignored if pcombo = '0')|\n",
    "| <p align=\"left\">*api* | <p align=\"left\">'HDA' or 'COAH' |<p align=\"left\">Select which API to use for the data query |\n",
    "| <p align=\"left\">*username* | <p align=\"left\">'string' |<p align=\"left\">User credentials (only for COAH) |\n",
    "| <p align=\"left\">*password* | <p align=\"left\">'string' |<p align=\"left\">User credentials (only for COAH) |\n",
    "| <p align=\"left\">*region* | <p align=\"left\">'string' |<p align=\"left\">For HDA only, specify a region (see available options [here](https://www.wekeo.eu/dataset-navigator/start)) |\n",
    "| <p align=\"left\">*tile* | <p align=\"left\">'string' or 'string,string,...' |<p align=\"left\">For HDA only, specify one or multiple tiles (comma separated list) |\n",
    "\n",
    "\n",
    "### API\n",
    "Data can be dowloaded using the following two options:\n",
    "\n",
    "> ___1. The Harmonized Data Access (HDA) API:___  the number of concurrent download is the number of cores of the machine, but only OLCI data are available (to date)\n",
    "\n",
    "> ___2. The Copernicus Open Access Hub (COAH) API:___  the number of concurrent download is limited to 2, but both OLCI and MSI data are available\n",
    "\n",
    "\n",
    "### POLYMER band list\n",
    "\n",
    "A list of output bands for Polymer is avalable at page 30 of the ATBD manual ([Polymer ATBD](https://www.google.com/url?sa=t&rct=j&q=&esrc=s&source=web&cd=1&cad=rja&uact=8&ved=2ahUKEwjV84uB59vfAhUE_SwKHWYqBxUQFjAAegQIBRAC&url=http%3A%2F%2Fcci.esa.int%2Ffiledepot_download%2F255%2F286&usg=AOvVaw1SO1Qn8PSxNLA2k8ivMR_5)) or under `/home/nouchi/jupyter/sentinel_hindcast/ANCILLARY/output_bands/polymer_band_list.txt`\n",
    "\n",
    "### C2RCC band list\n",
    "\n",
    "A list of output bands for C2RCC is avalable under `/home/nouchi/jupyter/sentinel_hindcast/ANCILLARY/output_bands/c2rcc_band_list.txt`"
   ]
  },
  {
   "cell_type": "code",
   "execution_count": 1,
   "metadata": {
    "scrolled": false
   },
   "outputs": [
    {
     "ename": "SyntaxError",
     "evalue": "invalid syntax (main.py, line 134)",
     "output_type": "error",
     "traceback": [
      "Traceback \u001b[0;36m(most recent call last)\u001b[0m:\n",
      "  File \u001b[1;32m\"/opt/anaconda/anaconda3/lib/python3.6/site-packages/IPython/core/interactiveshell.py\"\u001b[0m, line \u001b[1;32m3267\u001b[0m, in \u001b[1;35mrun_code\u001b[0m\n    exec(code_obj, self.user_global_ns, self.user_ns)\n",
      "\u001b[0;36m  File \u001b[0;32m\"<ipython-input-1-d6b4fc450bb7>\"\u001b[0;36m, line \u001b[0;32m2\u001b[0;36m, in \u001b[0;35m<module>\u001b[0;36m\u001b[0m\n\u001b[0;31m    from packages.main import eawag_hindcast\u001b[0m\n",
      "\u001b[0;36m  File \u001b[0;32m\"/home/nouchi/jupyter/dev_1P/packages/main.py\"\u001b[0;36m, line \u001b[0;32m134\u001b[0m\n\u001b[0;31m    else:\u001b[0m\n\u001b[0m       ^\u001b[0m\n\u001b[0;31mSyntaxError\u001b[0m\u001b[0;31m:\u001b[0m invalid syntax\n"
     ]
    }
   ],
   "source": [
    "# Import libs\n",
    "from packages.main import eawag_hindcast\n",
    "from packages.auxil import read_parameters_file, open_products\n",
    "import os\n",
    "import urllib3\n",
    "import urllib.parse\n",
    "urllib3.disable_warnings(urllib3.exceptions.InsecureRequestWarning)\n",
    "%matplotlib inline\n",
    "\n",
    "# Options\n",
    "param_file = '/home/nouchi/jupyter/dev_1P/parameters/params1.txt'\n",
    "params = read_parameters_file(param_file, verbose=True)\n",
    "# Select an existing output directory\n",
    "out_dir = '/home/nouchi/output/'\n",
    "\n",
    "eawag_hindcast(params, out_dir)"
   ]
  },
  {
   "cell_type": "code",
   "execution_count": null,
   "metadata": {},
   "outputs": [],
   "source": []
  }
 ],
 "metadata": {
  "kernelspec": {
   "display_name": "Python 3",
   "language": "python",
   "name": "python3"
  },
  "language_info": {
   "codemirror_mode": {
    "name": "ipython",
    "version": 3
   },
   "file_extension": ".py",
   "mimetype": "text/x-python",
   "name": "python",
   "nbconvert_exporter": "python",
   "pygments_lexer": "ipython3",
   "version": "3.6.7"
  }
 },
 "nbformat": 4,
 "nbformat_minor": 2
}
